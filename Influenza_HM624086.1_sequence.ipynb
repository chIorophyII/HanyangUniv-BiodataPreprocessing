{
 "cells": [
  {
   "cell_type": "code",
   "execution_count": 1,
   "metadata": {},
   "outputs": [],
   "source": [
    "from Bio import Entrez, SeqIO"
   ]
  },
  {
   "cell_type": "markdown",
   "metadata": {},
   "source": [
    "### genbank파일 불러오기"
   ]
  },
  {
   "cell_type": "code",
   "execution_count": 4,
   "metadata": {},
   "outputs": [],
   "source": [
    "handle_gb = Entrez.efetch(db=\"nucleotide\", id=\"7.\tHM624086.1\", rettype=\"gb\", retmode=\"text\")"
   ]
  },
  {
   "cell_type": "code",
   "execution_count": 5,
   "metadata": {
    "scrolled": true
   },
   "outputs": [
    {
     "name": "stdout",
     "output_type": "stream",
     "text": [
      "LOCUS       HM624086                1701 bp    cRNA    linear   VRL 18-OCT-2011\n",
      "DEFINITION  Influenza A virus (A/Perth/260/2009(H1N1)) segment 4 hemagglutinin\n",
      "            (HA) gene, complete cds.\n",
      "ACCESSION   HM624086\n",
      "VERSION     HM624086.1\n",
      "DBLINK      BioProject: PRJNA37813\n",
      "KEYWORDS    .\n",
      "SOURCE      Influenza A virus (A/Perth/260/2009(H1N1))\n",
      "  ORGANISM  Influenza A virus (A/Perth/260/2009(H1N1))\n",
      "            Viruses; Riboviria; Orthornavirae; Negarnaviricota;\n",
      "            Polyploviricotina; Insthoviricetes; Articulavirales;\n",
      "            Orthomyxoviridae; Alphainfluenzavirus.\n",
      "REFERENCE   1  (bases 1 to 1701)\n",
      "  AUTHORS   Deng,Y.M., Caldwell,N., Hurt,A., Shaw,T., Kelso,A., Chidlow,G.,\n",
      "            Williams,S., Smith,D. and Barr,I.\n",
      "  TITLE     A comparison of pyrosequencing and neuraminidase inhibition assays\n",
      "            for the detection of oseltamivir-resistant pandemic influenza\n",
      "            A(H1N1) 2009 viruses\n",
      "  JOURNAL   Antiviral Res. 90 (1), 87-91 (2011)\n",
      "   PUBMED   21376084\n",
      "REFERENCE   2  (bases 1 to 1701)\n",
      "  AUTHORS   Deng,Y.-M., Iannello,P., Ernest,J., Caldwell,N. and Komadina,N.\n",
      "  TITLE     Direct Submission\n",
      "  JOURNAL   Submitted (02-JUL-2010) Reference and Research on Influenza, WHO\n",
      "            Collaborating Centre for Reference and Research on Influenza, 10\n",
      "            Wreckyn Street, North Melbourne, Victoria 3051, Australia\n",
      "COMMENT     Swine influenza A (H1N1) virus isolated during human swine flu\n",
      "            outbreak of 2009.\n",
      "            \n",
      "            ##GISAID_EpiFlu(TM)Data-START##\n",
      "            Isolate                :: A/Perth/260/2009\n",
      "            Subtype                :: H1N1\n",
      "            Segment_name           :: HA\n",
      "            Host_gender            :: M\n",
      "            Host_age               :: 38\n",
      "            Passage_history        :: MDCKX\n",
      "            Antigen_character      :: A/California/07/2009-like\n",
      "            Adamantane_resistance  :: RESISTANT\n",
      "            Oseltamivir_resistance :: RESISTANT\n",
      "            Country                :: Australia\n",
      "            State/Province         :: Western Australia\n",
      "            Localization_detail    :: Ocean Reef\n",
      "            Collection_day         :: 13\n",
      "            Collection_month       :: 08\n",
      "            Collection_year        :: 2009\n",
      "            Isolate_note           :: comment: H275Y change, patient treated\n",
      "                                      with oseltamivir Originating Laboratory:\n",
      "                                      Pathwest QE II Medical Centre, Hospital\n",
      "                                      Avenue, J Block, 6009, Nedlands, Western\n",
      "                                      Australia, Australia\n",
      "            EPI_accession          :: EPI270024\n",
      "            Lineage                :: swl\n",
      "            ##GISAID_EpiFlu(TM)Data-END##\n",
      "FEATURES             Location/Qualifiers\n",
      "     source          1..1701\n",
      "                     /organism=\"Influenza A virus (A/Perth/260/2009(H1N1))\"\n",
      "                     /mol_type=\"viral cRNA\"\n",
      "                     /strain=\"A/Perth/260/2009\"\n",
      "                     /serotype=\"H1N1\"\n",
      "                     /host=\"Homo sapiens; gender M; age 38\"\n",
      "                     /db_xref=\"taxon:861191\"\n",
      "                     /segment=\"4\"\n",
      "                     /country=\"Australia\"\n",
      "                     /collection_date=\"13-Aug-2009\"\n",
      "                     /note=\"lineage: swl\"\n",
      "     gene            1..1701\n",
      "                     /gene=\"HA\"\n",
      "     CDS             1..1701\n",
      "                     /gene=\"HA\"\n",
      "                     /codon_start=1\n",
      "                     /product=\"hemagglutinin\"\n",
      "                     /protein_id=\"ADJ67984.1\"\n",
      "                     /translation=\"MKAILVVLLYTFATANADTLCIGYHANNSTDTVDTVLEKNVTVT\n",
      "                     HSVNLLEDKHNGKLCKLRGVAPLHLGKCNIAGWILGNPECESLSTASSWSYIVETSSS\n",
      "                     DNGTCYPGDFIDYEELREQLSSVSSFERFEIFPKTSSWPNHDSNKGVTAACPHAGAKS\n",
      "                     FYKNLIWLVKKGNSYPKLSKSYINDKGKEVLVLWGIHHPSTSADQQSLYQNADAYVFV\n",
      "                     GTSRYSKKFKPEIAIRPKVRDQEGRMNYYWTLVEPGDKITFEATGNLVVPRYAFAMER\n",
      "                     NAGSGIIISDTPVHDCNTTCQTPKGAINTSLPFQNIHPITIGKCPKYVKSTKLRLATG\n",
      "                     LRNVPSIQSRGLFGAIAGFIEGGWTGMVDGWYGYHHQNEQGSGYAADLKSTQNAIDEI\n",
      "                     TNKVNSVIEKMNTQFTAVGKEFNHLEKRIENLNKKIDDGFLDIWTYNAELLVLLENER\n",
      "                     TLDYHDSNVKNLYEKVRSQLKNNAKEIGNGCFEFYHKCDNTCMESVKNGTYDYPKYSE\n",
      "                     EAKLNREEIDGVKLESTRIYQILAIYSTVASSLVLVVSLGAISFWMCSNGSLQCRICI\n",
      "                     \"\n",
      "ORIGIN      \n",
      "        1 atgaaggcaa tactagtagt tctgctatat acatttgcaa ccgcaaatgc agacacatta\n",
      "       61 tgtataggtt atcatgcgaa caattcaaca gacactgtag acacagtact agaaaagaat\n",
      "      121 gtaacagtaa cacactctgt taaccttcta gaagacaagc ataacgggaa actatgcaaa\n",
      "      181 ctaagagggg tagccccatt gcatttgggt aaatgtaaca ttgctggctg gatcctggga\n",
      "      241 aacccagagt gtgaatcact ctccacagca agctcatggt cctacattgt ggaaacatct\n",
      "      301 agttcagaca atggaacgtg ttacccagga gatttcatcg attatgagga gctaagagag\n",
      "      361 caattgagct cagtgtcatc atttgaaagg tttgagatat tccccaaaac aagttcatgg\n",
      "      421 cccaatcatg actcgaacaa aggtgtaacg gcagcatgtc ctcatgctgg agcaaaaagc\n",
      "      481 ttctacaaaa atttaatatg gctagttaaa aaaggaaatt catacccaaa gctcagcaaa\n",
      "      541 tcctacatta atgataaagg gaaagaagtc ctcgtgctat ggggcattca ccatccatct\n",
      "      601 actagtgctg accaacaaag tctctatcag aatgcagatg catatgtttt tgtggggaca\n",
      "      661 tcaagataca gcaagaagtt caagccggaa atagcaataa gacccaaagt gagggatcaa\n",
      "      721 gaagggagaa tgaactatta ctggacacta gtagagccgg gagacaaaat aacattcgaa\n",
      "      781 gcaactggaa atctagtggt accgagatat gcattcgcaa tggaaagaaa tgctggatct\n",
      "      841 ggtattatca tttcagatac accagtccac gattgcaata caacttgtca gacacccaag\n",
      "      901 ggtgctataa acaccagcct cccatttcag aatatacatc cgatcacaat tggaaaatgt\n",
      "      961 ccaaaatatg taaaaagcac aaaattgaga ctggccacag gattgaggaa tgtcccgtct\n",
      "     1021 attcaatcta gaggcctatt tggggccatt gccggtttca ttgaaggggg gtggacaggg\n",
      "     1081 atggtagatg gatggtacgg ttatcaccat caaaatgagc aggggtcagg atatgcagcc\n",
      "     1141 gacctgaaga gcacacagaa tgccattgac gagattacta acaaagtaaa ttctgttatt\n",
      "     1201 gaaaagatga atacacagtt cacagcagta ggtaaagagt tcaaccacct ggaaaaaaga\n",
      "     1261 atagagaatt taaataaaaa aattgatgat ggtttcctgg acatttggac ttacaatgca\n",
      "     1321 gaactgttgg ttctattgga aaatgaaaga actttggact accacgattc aaatgtgaag\n",
      "     1381 aacttatatg aaaaggtaag aagccagtta aaaaacaatg ccaaggaaat tggaaacggc\n",
      "     1441 tgctttgaat tttaccacaa atgcgataac acgtgcatgg aaagtgtcaa aaatgggact\n",
      "     1501 tatgactacc caaaatactc agaggaagca aaattaaaca gagaagaaat agatggggta\n",
      "     1561 aagctggaat caacaaggat ttaccagatt ttggcgatct attcaactgt cgccagttca\n",
      "     1621 ttggtactgg tagtctccct gggggcaatc agtttctgga tgtgctctaa tgggtctcta\n",
      "     1681 cagtgtagaa tatgtattta a\n",
      "//\n",
      "\n",
      "\n"
     ]
    }
   ],
   "source": [
    "print(handle_gb.read()) "
   ]
  },
  {
   "cell_type": "markdown",
   "metadata": {},
   "source": [
    "### fasta파일 불러오기"
   ]
  },
  {
   "cell_type": "code",
   "execution_count": 22,
   "metadata": {},
   "outputs": [],
   "source": [
    "handle_fs = Entrez.efetch(db=\"nucleotide\", id=\"HM624086.1\", rettype=\"fasta\", retmode=\"text\")"
   ]
  },
  {
   "cell_type": "code",
   "execution_count": 21,
   "metadata": {},
   "outputs": [
    {
     "name": "stdout",
     "output_type": "stream",
     "text": [
      ">HM624086.1 Influenza A virus (A/Perth/260/2009(H1N1)) segment 4 hemagglutinin (HA) gene, complete cds\n",
      "ATGAAGGCAATACTAGTAGTTCTGCTATATACATTTGCAACCGCAAATGCAGACACATTATGTATAGGTT\n",
      "ATCATGCGAACAATTCAACAGACACTGTAGACACAGTACTAGAAAAGAATGTAACAGTAACACACTCTGT\n",
      "TAACCTTCTAGAAGACAAGCATAACGGGAAACTATGCAAACTAAGAGGGGTAGCCCCATTGCATTTGGGT\n",
      "AAATGTAACATTGCTGGCTGGATCCTGGGAAACCCAGAGTGTGAATCACTCTCCACAGCAAGCTCATGGT\n",
      "CCTACATTGTGGAAACATCTAGTTCAGACAATGGAACGTGTTACCCAGGAGATTTCATCGATTATGAGGA\n",
      "GCTAAGAGAGCAATTGAGCTCAGTGTCATCATTTGAAAGGTTTGAGATATTCCCCAAAACAAGTTCATGG\n",
      "CCCAATCATGACTCGAACAAAGGTGTAACGGCAGCATGTCCTCATGCTGGAGCAAAAAGCTTCTACAAAA\n",
      "ATTTAATATGGCTAGTTAAAAAAGGAAATTCATACCCAAAGCTCAGCAAATCCTACATTAATGATAAAGG\n",
      "GAAAGAAGTCCTCGTGCTATGGGGCATTCACCATCCATCTACTAGTGCTGACCAACAAAGTCTCTATCAG\n",
      "AATGCAGATGCATATGTTTTTGTGGGGACATCAAGATACAGCAAGAAGTTCAAGCCGGAAATAGCAATAA\n",
      "GACCCAAAGTGAGGGATCAAGAAGGGAGAATGAACTATTACTGGACACTAGTAGAGCCGGGAGACAAAAT\n",
      "AACATTCGAAGCAACTGGAAATCTAGTGGTACCGAGATATGCATTCGCAATGGAAAGAAATGCTGGATCT\n",
      "GGTATTATCATTTCAGATACACCAGTCCACGATTGCAATACAACTTGTCAGACACCCAAGGGTGCTATAA\n",
      "ACACCAGCCTCCCATTTCAGAATATACATCCGATCACAATTGGAAAATGTCCAAAATATGTAAAAAGCAC\n",
      "AAAATTGAGACTGGCCACAGGATTGAGGAATGTCCCGTCTATTCAATCTAGAGGCCTATTTGGGGCCATT\n",
      "GCCGGTTTCATTGAAGGGGGGTGGACAGGGATGGTAGATGGATGGTACGGTTATCACCATCAAAATGAGC\n",
      "AGGGGTCAGGATATGCAGCCGACCTGAAGAGCACACAGAATGCCATTGACGAGATTACTAACAAAGTAAA\n",
      "TTCTGTTATTGAAAAGATGAATACACAGTTCACAGCAGTAGGTAAAGAGTTCAACCACCTGGAAAAAAGA\n",
      "ATAGAGAATTTAAATAAAAAAATTGATGATGGTTTCCTGGACATTTGGACTTACAATGCAGAACTGTTGG\n",
      "TTCTATTGGAAAATGAAAGAACTTTGGACTACCACGATTCAAATGTGAAGAACTTATATGAAAAGGTAAG\n",
      "AAGCCAGTTAAAAAACAATGCCAAGGAAATTGGAAACGGCTGCTTTGAATTTTACCACAAATGCGATAAC\n",
      "ACGTGCATGGAAAGTGTCAAAAATGGGACTTATGACTACCCAAAATACTCAGAGGAAGCAAAATTAAACA\n",
      "GAGAAGAAATAGATGGGGTAAAGCTGGAATCAACAAGGATTTACCAGATTTTGGCGATCTATTCAACTGT\n",
      "CGCCAGTTCATTGGTACTGGTAGTCTCCCTGGGGGCAATCAGTTTCTGGATGTGCTCTAATGGGTCTCTA\n",
      "CAGTGTAGAATATGTATTTAA\n",
      "\n",
      "\n"
     ]
    }
   ],
   "source": [
    "print(handle_fs.read()) "
   ]
  },
  {
   "cell_type": "code",
   "execution_count": 23,
   "metadata": {},
   "outputs": [],
   "source": [
    "seq = SeqIO.read(handle_fs,\"fasta\")"
   ]
  },
  {
   "cell_type": "code",
   "execution_count": 24,
   "metadata": {},
   "outputs": [
    {
     "name": "stdout",
     "output_type": "stream",
     "text": [
      "ID: HM624086.1\n",
      "Name: HM624086.1\n",
      "Description: HM624086.1 Influenza A virus (A/Perth/260/2009(H1N1)) segment 4 hemagglutinin (HA) gene, complete cds\n",
      "Number of features: 0\n",
      "Seq('ATGAAGGCAATACTAGTAGTTCTGCTATATACATTTGCAACCGCAAATGCAGAC...TAA')\n"
     ]
    }
   ],
   "source": [
    "print(seq)"
   ]
  },
  {
   "cell_type": "code",
   "execution_count": 25,
   "metadata": {},
   "outputs": [],
   "source": [
    "def fetch_record(genbank_id):\n",
    "    Entrez.email = \"dab2in@hanyang.ac.kr\" #자신의 메일 주소\n",
    "    handle_gb = Entrez.efetch(db=\"nucleotide\", id=genbank_id,  rettype=\"gb\", retmode=\"xml\")\n",
    "    records = Entrez.read(handle_gb)\n",
    "    return records"
   ]
  },
  {
   "cell_type": "code",
   "execution_count": 26,
   "metadata": {},
   "outputs": [],
   "source": [
    "def get_sequence(records):\n",
    "    return records[0][\"GBSeq_sequence\"]"
   ]
  },
  {
   "cell_type": "code",
   "execution_count": 27,
   "metadata": {},
   "outputs": [],
   "source": [
    "genbank_id = \"HM624086.1\"\n",
    "records = fetch_record(genbank_id)\n",
    "sequence = get_sequence(records)\n",
    "sequence = sequence.upper()"
   ]
  },
  {
   "cell_type": "markdown",
   "metadata": {},
   "source": [
    "### 염기서열 정보"
   ]
  },
  {
   "cell_type": "code",
   "execution_count": 28,
   "metadata": {},
   "outputs": [
    {
     "name": "stdout",
     "output_type": "stream",
     "text": [
      "ATGAAGGCAATACTAGTAGTTCTGCTATATACATTTGCAACCGCAAATGCAGACACATTATGTATAGGTTATCATGCGAACAATTCAACAGACACTGTAGACACAGTACTAGAAAAGAATGTAACAGTAACACACTCTGTTAACCTTCTAGAAGACAAGCATAACGGGAAACTATGCAAACTAAGAGGGGTAGCCCCATTGCATTTGGGTAAATGTAACATTGCTGGCTGGATCCTGGGAAACCCAGAGTGTGAATCACTCTCCACAGCAAGCTCATGGTCCTACATTGTGGAAACATCTAGTTCAGACAATGGAACGTGTTACCCAGGAGATTTCATCGATTATGAGGAGCTAAGAGAGCAATTGAGCTCAGTGTCATCATTTGAAAGGTTTGAGATATTCCCCAAAACAAGTTCATGGCCCAATCATGACTCGAACAAAGGTGTAACGGCAGCATGTCCTCATGCTGGAGCAAAAAGCTTCTACAAAAATTTAATATGGCTAGTTAAAAAAGGAAATTCATACCCAAAGCTCAGCAAATCCTACATTAATGATAAAGGGAAAGAAGTCCTCGTGCTATGGGGCATTCACCATCCATCTACTAGTGCTGACCAACAAAGTCTCTATCAGAATGCAGATGCATATGTTTTTGTGGGGACATCAAGATACAGCAAGAAGTTCAAGCCGGAAATAGCAATAAGACCCAAAGTGAGGGATCAAGAAGGGAGAATGAACTATTACTGGACACTAGTAGAGCCGGGAGACAAAATAACATTCGAAGCAACTGGAAATCTAGTGGTACCGAGATATGCATTCGCAATGGAAAGAAATGCTGGATCTGGTATTATCATTTCAGATACACCAGTCCACGATTGCAATACAACTTGTCAGACACCCAAGGGTGCTATAAACACCAGCCTCCCATTTCAGAATATACATCCGATCACAATTGGAAAATGTCCAAAATATGTAAAAAGCACAAAATTGAGACTGGCCACAGGATTGAGGAATGTCCCGTCTATTCAATCTAGAGGCCTATTTGGGGCCATTGCCGGTTTCATTGAAGGGGGGTGGACAGGGATGGTAGATGGATGGTACGGTTATCACCATCAAAATGAGCAGGGGTCAGGATATGCAGCCGACCTGAAGAGCACACAGAATGCCATTGACGAGATTACTAACAAAGTAAATTCTGTTATTGAAAAGATGAATACACAGTTCACAGCAGTAGGTAAAGAGTTCAACCACCTGGAAAAAAGAATAGAGAATTTAAATAAAAAAATTGATGATGGTTTCCTGGACATTTGGACTTACAATGCAGAACTGTTGGTTCTATTGGAAAATGAAAGAACTTTGGACTACCACGATTCAAATGTGAAGAACTTATATGAAAAGGTAAGAAGCCAGTTAAAAAACAATGCCAAGGAAATTGGAAACGGCTGCTTTGAATTTTACCACAAATGCGATAACACGTGCATGGAAAGTGTCAAAAATGGGACTTATGACTACCCAAAATACTCAGAGGAAGCAAAATTAAACAGAGAAGAAATAGATGGGGTAAAGCTGGAATCAACAAGGATTTACCAGATTTTGGCGATCTATTCAACTGTCGCCAGTTCATTGGTACTGGTAGTCTCCCTGGGGGCAATCAGTTTCTGGATGTGCTCTAATGGGTCTCTACAGTGTAGAATATGTATTTAA\n"
     ]
    }
   ],
   "source": [
    "print(sequence)"
   ]
  },
  {
   "cell_type": "code",
   "execution_count": null,
   "metadata": {},
   "outputs": [],
   "source": []
  },
  {
   "cell_type": "markdown",
   "metadata": {},
   "source": [
    "### 염기서열 길이"
   ]
  },
  {
   "cell_type": "code",
   "execution_count": 29,
   "metadata": {
    "scrolled": true
   },
   "outputs": [
    {
     "name": "stdout",
     "output_type": "stream",
     "text": [
      "1701\n"
     ]
    }
   ],
   "source": [
    "print(len(sequence))"
   ]
  },
  {
   "cell_type": "code",
   "execution_count": 30,
   "metadata": {},
   "outputs": [],
   "source": [
    "#sequence를 txt 파일로 저장\n",
    "f=open(\"HM624086.1_sequence.fasta.txt\", 'w')\n",
    "f.write(sequence)\n",
    "f.close()"
   ]
  },
  {
   "cell_type": "code",
   "execution_count": 31,
   "metadata": {},
   "outputs": [
    {
     "name": "stdout",
     "output_type": "stream",
     "text": [
      "A 603\n",
      "C 314\n",
      "G 377\n",
      "T 407\n"
     ]
    }
   ],
   "source": [
    "A, C, G, T = 0, 0, 0, 0\n",
    "\n",
    "with open (\"HM624086.1_sequence.fasta.txt\", \"r\") as fr:\n",
    "    for line in fr:\n",
    "        if line.startswith(\">\"):\n",
    "            pass \n",
    "        else:\n",
    "            A+=line.count(\"A\")\n",
    "            C+=line.count(\"C\")\n",
    "            G+=line.count(\"G\")\n",
    "            T+=line.count(\"T\")\n",
    "            \n",
    "print(\"A\", A)\n",
    "print(\"C\", C)\n",
    "print(\"G\", G)\n",
    "print(\"T\", T)"
   ]
  },
  {
   "cell_type": "code",
   "execution_count": 32,
   "metadata": {},
   "outputs": [],
   "source": [
    "rev_seq=\"\"\n",
    "for i in range(len(sequence)-1, -1, -1):\n",
    "    rev_seq +=sequence[i]"
   ]
  },
  {
   "cell_type": "markdown",
   "metadata": {},
   "source": [
    "### 역상보 서열"
   ]
  },
  {
   "cell_type": "code",
   "execution_count": 33,
   "metadata": {},
   "outputs": [
    {
     "name": "stdout",
     "output_type": "stream",
     "text": [
      "ATGAAGGCAATACTAGTAGTTCTGCTATATACATTTGCAACCGCAAATGCAGACACATTATGTATAGGTTATCATGCGAACAATTCAACAGACACTGTAGACACAGTACTAGAAAAGAATGTAACAGTAACACACTCTGTTAACCTTCTAGAAGACAAGCATAACGGGAAACTATGCAAACTAAGAGGGGTAGCCCCATTGCATTTGGGTAAATGTAACATTGCTGGCTGGATCCTGGGAAACCCAGAGTGTGAATCACTCTCCACAGCAAGCTCATGGTCCTACATTGTGGAAACATCTAGTTCAGACAATGGAACGTGTTACCCAGGAGATTTCATCGATTATGAGGAGCTAAGAGAGCAATTGAGCTCAGTGTCATCATTTGAAAGGTTTGAGATATTCCCCAAAACAAGTTCATGGCCCAATCATGACTCGAACAAAGGTGTAACGGCAGCATGTCCTCATGCTGGAGCAAAAAGCTTCTACAAAAATTTAATATGGCTAGTTAAAAAAGGAAATTCATACCCAAAGCTCAGCAAATCCTACATTAATGATAAAGGGAAAGAAGTCCTCGTGCTATGGGGCATTCACCATCCATCTACTAGTGCTGACCAACAAAGTCTCTATCAGAATGCAGATGCATATGTTTTTGTGGGGACATCAAGATACAGCAAGAAGTTCAAGCCGGAAATAGCAATAAGACCCAAAGTGAGGGATCAAGAAGGGAGAATGAACTATTACTGGACACTAGTAGAGCCGGGAGACAAAATAACATTCGAAGCAACTGGAAATCTAGTGGTACCGAGATATGCATTCGCAATGGAAAGAAATGCTGGATCTGGTATTATCATTTCAGATACACCAGTCCACGATTGCAATACAACTTGTCAGACACCCAAGGGTGCTATAAACACCAGCCTCCCATTTCAGAATATACATCCGATCACAATTGGAAAATGTCCAAAATATGTAAAAAGCACAAAATTGAGACTGGCCACAGGATTGAGGAATGTCCCGTCTATTCAATCTAGAGGCCTATTTGGGGCCATTGCCGGTTTCATTGAAGGGGGGTGGACAGGGATGGTAGATGGATGGTACGGTTATCACCATCAAAATGAGCAGGGGTCAGGATATGCAGCCGACCTGAAGAGCACACAGAATGCCATTGACGAGATTACTAACAAAGTAAATTCTGTTATTGAAAAGATGAATACACAGTTCACAGCAGTAGGTAAAGAGTTCAACCACCTGGAAAAAAGAATAGAGAATTTAAATAAAAAAATTGATGATGGTTTCCTGGACATTTGGACTTACAATGCAGAACTGTTGGTTCTATTGGAAAATGAAAGAACTTTGGACTACCACGATTCAAATGTGAAGAACTTATATGAAAAGGTAAGAAGCCAGTTAAAAAACAATGCCAAGGAAATTGGAAACGGCTGCTTTGAATTTTACCACAAATGCGATAACACGTGCATGGAAAGTGTCAAAAATGGGACTTATGACTACCCAAAATACTCAGAGGAAGCAAAATTAAACAGAGAAGAAATAGATGGGGTAAAGCTGGAATCAACAAGGATTTACCAGATTTTGGCGATCTATTCAACTGTCGCCAGTTCATTGGTACTGGTAGTCTCCCTGGGGGCAATCAGTTTCTGGATGTGCTCTAATGGGTCTCTACAGTGTAGAATATGTATTTAA\n",
      "\n",
      "역상보서열\n",
      "\n",
      "TTAAATACATATTCTACACTGTAGAGACCCATTAGAGCACATCCAGAAACTGATTGCCCCCAGGGAGACTACCAGTACCAATGAACTGGCGACAGTTGAATAGATCGCCAAAATCTGGTAAATCCTTGTTGATTCCAGCTTTACCCCATCTATTTCTTCTCTGTTTAATTTTGCTTCCTCTGAGTATTTTGGGTAGTCATAAGTCCCATTTTTGACACTTTCCATGCACGTGTTATCGCATTTGTGGTAAAATTCAAAGCAGCCGTTTCCAATTTCCTTGGCATTGTTTTTTAACTGGCTTCTTACCTTTTCATATAAGTTCTTCACATTTGAATCGTGGTAGTCCAAAGTTCTTTCATTTTCCAATAGAACCAACAGTTCTGCATTGTAAGTCCAAATGTCCAGGAAACCATCATCAATTTTTTTATTTAAATTCTCTATTCTTTTTTCCAGGTGGTTGAACTCTTTACCTACTGCTGTGAACTGTGTATTCATCTTTTCAATAACAGAATTTACTTTGTTAGTAATCTCGTCAATGGCATTCTGTGTGCTCTTCAGGTCGGCTGCATATCCTGACCCCTGCTCATTTTGATGGTGATAACCGTACCATCCATCTACCATCCCTGTCCACCCCCCTTCAATGAAACCGGCAATGGCCCCAAATAGGCCTCTAGATTGAATAGACGGGACATTCCTCAATCCTGTGGCCAGTCTCAATTTTGTGCTTTTTACATATTTTGGACATTTTCCAATTGTGATCGGATGTATATTCTGAAATGGGAGGCTGGTGTTTATAGCACCCTTGGGTGTCTGACAAGTTGTATTGCAATCGTGGACTGGTGTATCTGAAATGATAATACCAGATCCAGCATTTCTTTCCATTGCGAATGCATATCTCGGTACCACTAGATTTCCAGTTGCTTCGAATGTTATTTTGTCTCCCGGCTCTACTAGTGTCCAGTAATAGTTCATTCTCCCTTCTTGATCCCTCACTTTGGGTCTTATTGCTATTTCCGGCTTGAACTTCTTGCTGTATCTTGATGTCCCCACAAAAACATATGCATCTGCATTCTGATAGAGACTTTGTTGGTCAGCACTAGTAGATGGATGGTGAATGCCCCATAGCACGAGGACTTCTTTCCCTTTATCATTAATGTAGGATTTGCTGAGCTTTGGGTATGAATTTCCTTTTTTAACTAGCCATATTAAATTTTTGTAGAAGCTTTTTGCTCCAGCATGAGGACATGCTGCCGTTACACCTTTGTTCGAGTCATGATTGGGCCATGAACTTGTTTTGGGGAATATCTCAAACCTTTCAAATGATGACACTGAGCTCAATTGCTCTCTTAGCTCCTCATAATCGATGAAATCTCCTGGGTAACACGTTCCATTGTCTGAACTAGATGTTTCCACAATGTAGGACCATGAGCTTGCTGTGGAGAGTGATTCACACTCTGGGTTTCCCAGGATCCAGCCAGCAATGTTACATTTACCCAAATGCAATGGGGCTACCCCTCTTAGTTTGCATAGTTTCCCGTTATGCTTGTCTTCTAGAAGGTTAACAGAGTGTGTTACTGTTACATTCTTTTCTAGTACTGTGTCTACAGTGTCTGTTGAATTGTTCGCATGATAACCTATACATAATGTGTCTGCATTTGCGGTTGCAAATGTATATAGCAGAACTACTAGTATTGCCTTCAT\n"
     ]
    }
   ],
   "source": [
    "rev_seq=sequence[::-1]\n",
    "revcomp_seq=\"\"\n",
    "for s in rev_seq:\n",
    "    if s == \"A\":\n",
    "        revcomp_seq += \"T\"\n",
    "    elif s == \"C\":\n",
    "        revcomp_seq += \"G\"\n",
    "    elif s == \"G\": \n",
    "        revcomp_seq +=\"C\"\n",
    "    elif s == \"T\":\n",
    "        revcomp_seq += \"A\"\n",
    "print(sequence)\n",
    "print()\n",
    "print(\"역상보서열\")\n",
    "print()\n",
    "print(revcomp_seq)"
   ]
  },
  {
   "cell_type": "code",
   "execution_count": null,
   "metadata": {},
   "outputs": [],
   "source": []
  }
 ],
 "metadata": {
  "kernelspec": {
   "display_name": "Python 3",
   "language": "python",
   "name": "python3"
  },
  "language_info": {
   "codemirror_mode": {
    "name": "ipython",
    "version": 3
   },
   "file_extension": ".py",
   "mimetype": "text/x-python",
   "name": "python",
   "nbconvert_exporter": "python",
   "pygments_lexer": "ipython3",
   "version": "3.8.3"
  }
 },
 "nbformat": 4,
 "nbformat_minor": 5
}
